{
 "cells": [
  {
   "cell_type": "code",
   "execution_count": null,
   "metadata": {},
   "outputs": [],
   "source": [
    "%pip install numpy torch torchvision torchaudio scikit-image matplotlib"
   ]
  },
  {
   "cell_type": "code",
   "execution_count": 1,
   "metadata": {},
   "outputs": [],
   "source": [
    "import os\n",
    "import numpy as np\n",
    "import torch\n",
    "import torch.nn as nn\n",
    "import torch.optim as optim\n",
    "from torchvision import models, transforms\n",
    "from skimage import io\n",
    "from skimage.transform import resize\n",
    "import torch.utils.data as data\n",
    "from dotenv import load_dotenv\n",
    "from sklearn.metrics import precision_score, recall_score, f1_score\n",
    "from datetime import datetime\n",
    "from sklearn.metrics import confusion_matrix\n",
    "import seaborn as sns\n",
    "import matplotlib.pyplot as plt\n"
   ]
  },
  {
   "cell_type": "code",
   "execution_count": 17,
   "metadata": {},
   "outputs": [],
   "source": [
    "# Load environment variables from .env file\n",
    "load_dotenv()\n",
    "data_directory = os.getenv(\"DATASET1\")"
   ]
  },
  {
   "cell_type": "code",
   "execution_count": 23,
   "metadata": {},
   "outputs": [
    {
     "name": "stdout",
     "output_type": "stream",
     "text": [
      "Directory exists\n",
      "['CHNCXR_0492_1.png', 'CHNCXR_0187_0.png', 'CHNCXR_0342_1.png', 'CHNCXR_0286_0.png', 'CHNCXR_0022_0.png', 'CHNCXR_0067_0.png', 'CHNCXR_0572_1.png', 'CHNCXR_0537_1.png', 'CHNCXR_0323_0.png', 'CHNCXR_0636_1.png', 'CHNCXR_0147_0.png', 'CHNCXR_0102_0.png', 'CHNCXR_0417_1.png', 'CHNCXR_0452_1.png', 'CHNCXR_0246_0.png', 'CHNCXR_0203_0.png', 'CHNCXR_0382_1.png', 'CHNCXR_0083_0.png', 'CHNCXR_0596_1.png', 'CHNCXR_0262_0.png', 'CHNCXR_0227_0.png', 'CHNCXR_0433_1.png', 'CHNCXR_0476_1.png', 'CHNCXR_0163_0.png', 'CHNCXR_0126_0.png', 'CHNCXR_0366_1.png', 'CHNCXR_0657_1.png', 'CHNCXR_0612_1.png', 'CHNCXR_0307_0.png', 'CHNCXR_0556_1.png', 'CHNCXR_0513_1.png', 'CHNCXR_0006_0.png', 'CHNCXR_0043_0.png', 'CHNCXR_0218_0.png', 'CHNCXR_0399_1.png', 'CHNCXR_0119_0.png', 'CHNCXR_0364_1.png', 'CHNCXR_0449_1.png', 'CHNCXR_0004_0.png', 'CHNCXR_0041_0.png', 'CHNCXR_0554_1.png', 'CHNCXR_0511_1.png', 'CHNCXR_0305_0.png', 'CHNCXR_0655_1.png', 'CHNCXR_0610_1.png', 'CHNCXR_0594_1.png', 'CHNCXR_0081_0.png', 'CHNCXR_0039_0.png', 'CHNCXR_0569_1.png', 'CHNCXR_0359_1.png', 'CHNCXR_0161_0.png', 'CHNCXR_0124_0.png', 'CHNCXR_0431_1.png', 'CHNCXR_0474_1.png', 'CHNCXR_0489_1.png', 'CHNCXR_0260_0.png', 'CHNCXR_0225_0.png', 'CHNCXR_0508_1.png', 'CHNCXR_0058_0.png', 'CHNCXR_0609_1.png', 'CHNCXR_0380_1.png', 'CHNCXR_0244_0.png', 'CHNCXR_0201_0.png', 'CHNCXR_0415_1.png', 'CHNCXR_0450_1.png', 'CHNCXR_0145_0.png', 'CHNCXR_0338_1.png', 'CHNCXR_0100_0.png', 'CHNCXR_0284_0.png', 'CHNCXR_0428_1.png', 'CHNCXR_0178_0.png', 'CHNCXR_0340_1.png', 'CHNCXR_0185_0.png', 'CHNCXR_0279_0.png', 'CHNCXR_0490_1.png', 'CHNCXR_0098_0.png', 'CHNCXR_0634_1.png', 'CHNCXR_0321_0.png', 'CHNCXR_0570_1.png', 'CHNCXR_0535_1.png', 'CHNCXR_0020_0.png', 'CHNCXR_0065_0.png', 'CHNCXR_0411_1.png', 'CHNCXR_0454_1.png', 'CHNCXR_0379_1.png', 'CHNCXR_0141_0.png', 'CHNCXR_0104_0.png', 'CHNCXR_0384_1.png', 'CHNCXR_0240_0.png', 'CHNCXR_0205_0.png', 'CHNCXR_0648_1.png', 'CHNCXR_0318_0.png', 'CHNCXR_0549_1.png', 'CHNCXR_0019_0.png', 'CHNCXR_0574_1.png', 'CHNCXR_0531_1.png', 'CHNCXR_0024_0.png', 'CHNCXR_0061_0.png', 'CHNCXR_0630_1.png', 'CHNCXR_0325_0.png', 'CHNCXR_0589_1.png', '.DS_Store', 'CHNCXR_0181_0.png', 'CHNCXR_0238_0.png', 'CHNCXR_0494_1.png', 'CHNCXR_0280_0.png', 'CHNCXR_0469_1.png', 'CHNCXR_0139_0.png', 'CHNCXR_0344_1.png', 'CHNCXR_0301_0.png', 'CHNCXR_0651_1.png', 'CHNCXR_0614_1.png', 'CHNCXR_0045_0.png', 'CHNCXR_0550_1.png', 'CHNCXR_0515_1.png', 'CHNCXR_0158_0.png', 'CHNCXR_0360_1.png', 'CHNCXR_0408_1.png', 'CHNCXR_0259_0.png', 'CHNCXR_0264_0.png', 'CHNCXR_0221_0.png', 'CHNCXR_0198_0.png', 'CHNCXR_0165_0.png', 'CHNCXR_0120_0.png', 'CHNCXR_0435_1.png', 'CHNCXR_0470_1.png', 'CHNCXR_0299_0.png', 'CHNCXR_0078_0.png', 'CHNCXR_0528_1.png', 'CHNCXR_0590_1.png', 'CHNCXR_0629_1.png', 'CHNCXR_0085_0.png', 'CHNCXR_0437_1.png', 'CHNCXR_0472_1.png', 'CHNCXR_0167_0.png', 'CHNCXR_0122_0.png', 'CHNCXR_0266_0.png', 'CHNCXR_0223_0.png', 'CHNCXR_0087_0.png', 'CHNCXR_0592_1.png', 'CHNCXR_0552_1.png', 'CHNCXR_0517_1.png', 'CHNCXR_0002_0.png', 'CHNCXR_0047_0.png', 'CHNCXR_0653_1.png', 'CHNCXR_0616_1.png', 'CHNCXR_0303_0.png', 'CHNCXR_0327_1.png', 'CHNCXR_0362_1.png', 'CHNCXR_0632_1.png', 'CHNCXR_0026_0.png', 'CHNCXR_0063_0.png', 'CHNCXR_0576_1.png', 'CHNCXR_0533_1.png', 'CHNCXR_0346_1.png', 'CHNCXR_0282_0.png', 'CHNCXR_0496_1.png', 'CHNCXR_0183_0.png', 'CHNCXR_0242_0.png', 'CHNCXR_0207_0.png', 'CHNCXR_0386_1.png', 'CHNCXR_0143_0.png', 'CHNCXR_0106_0.png', 'CHNCXR_0413_1.png', 'CHNCXR_0456_1.png', 'CHNCXR_0125_0.png', 'CHNCXR_0358_1.png', 'CHNCXR_0160_0.png', 'CHNCXR_0475_1.png', 'CHNCXR_0430_1.png', 'CHNCXR_0224_0.png', 'CHNCXR_0261_0.png', 'CHNCXR_0488_1.png', 'CHNCXR_0595_1.png', 'CHNCXR_0080_0.png', 'CHNCXR_0038_0.png', 'CHNCXR_0568_1.png', 'CHNCXR_0040_0.png', 'CHNCXR_0005_0.png', 'CHNCXR_0510_1.png', 'CHNCXR_0555_1.png', 'CHNCXR_0304_0.png', 'CHNCXR_0611_1.png', 'CHNCXR_0654_1.png', 'CHNCXR_0219_0.png', 'CHNCXR_0398_1.png', 'CHNCXR_0365_1.png', 'CHNCXR_0118_0.png', 'CHNCXR_0448_1.png', 'CHNCXR_0635_1.png', 'CHNCXR_0099_0.png', 'CHNCXR_0320_0.png', 'CHNCXR_0534_1.png', 'CHNCXR_0571_1.png', 'CHNCXR_0064_0.png', 'CHNCXR_0021_0.png', 'CHNCXR_0429_1.png', 'CHNCXR_0285_0.png', 'CHNCXR_0179_0.png', 'CHNCXR_0341_1.png', 'CHNCXR_0184_0.png', 'CHNCXR_0491_1.png', 'CHNCXR_0278_0.png', 'CHNCXR_0381_1.png', 'CHNCXR_0200_0.png', 'CHNCXR_0245_0.png', 'CHNCXR_0451_1.png', 'CHNCXR_0414_1.png', 'CHNCXR_0339_1.png', 'CHNCXR_0101_0.png', 'CHNCXR_0144_0.png', 'CHNCXR_0509_1.png', 'CHNCXR_0059_0.png', 'CHNCXR_0608_1.png', 'CHNCXR_0103_0.png', 'CHNCXR_0146_0.png', 'CHNCXR_0453_1.png', 'CHNCXR_0416_1.png', 'CHNCXR_0202_0.png', 'CHNCXR_0247_0.png', 'CHNCXR_0383_1.png', 'CHNCXR_0066_0.png', 'CHNCXR_0023_0.png', 'CHNCXR_0536_1.png', 'CHNCXR_0573_1.png', 'CHNCXR_0322_0.png', 'CHNCXR_0637_1.png', 'CHNCXR_0493_1.png', 'CHNCXR_0186_0.png', 'CHNCXR_0343_1.png', 'CHNCXR_0287_0.png', 'CHNCXR_0613_1.png', 'CHNCXR_0656_1.png', 'CHNCXR_0306_0.png', 'CHNCXR_0512_1.png', 'CHNCXR_0557_1.png', 'CHNCXR_0042_0.png', 'CHNCXR_0007_0.png', 'CHNCXR_0367_1.png', 'CHNCXR_0226_0.png', 'CHNCXR_0263_0.png', 'CHNCXR_0477_1.png', 'CHNCXR_0432_1.png', 'CHNCXR_0127_0.png', 'CHNCXR_0162_0.png', 'CHNCXR_0082_0.png', 'CHNCXR_0597_1.png', 'CHNCXR_0363_1.png', 'CHNCXR_0516_1.png', 'CHNCXR_0553_1.png', 'CHNCXR_0046_0.png', 'CHNCXR_0003_0.png', 'CHNCXR_0617_1.png', 'CHNCXR_0652_1.png', 'CHNCXR_0302_0.png', 'CHNCXR_0086_0.png', 'CHNCXR_0593_1.png', 'CHNCXR_0473_1.png', 'CHNCXR_0436_1.png', 'CHNCXR_0123_0.png', 'CHNCXR_0166_0.png', 'CHNCXR_0222_0.png', 'CHNCXR_0267_0.png', 'CHNCXR_0206_0.png', 'CHNCXR_0243_0.png', 'CHNCXR_0387_1.png', 'CHNCXR_0107_0.png', 'CHNCXR_0142_0.png', 'CHNCXR_0457_1.png', 'CHNCXR_0412_1.png', 'CHNCXR_0347_1.png', 'CHNCXR_0283_0.png', 'CHNCXR_0497_1.png', 'CHNCXR_0182_0.png', 'CHNCXR_0326_0.png', 'CHNCXR_0633_1.png', 'CHNCXR_0062_0.png', 'CHNCXR_0027_0.png', 'CHNCXR_0532_1.png', 'CHNCXR_0577_1.png', 'CHNCXR_0180_0.png', 'CHNCXR_0495_1.png', 'CHNCXR_0239_0.png', 'CHNCXR_0468_1.png', 'CHNCXR_0281_0.png', 'CHNCXR_0345_1.png', 'CHNCXR_0138_0.png', 'CHNCXR_0530_1.png', 'CHNCXR_0575_1.png', 'CHNCXR_0060_0.png', 'CHNCXR_0025_0.png', 'CHNCXR_0631_1.png', 'CHNCXR_0588_1.png', 'CHNCXR_0324_0.png', 'CHNCXR_0649_1.png', 'CHNCXR_0319_0.png', 'CHNCXR_0548_1.png', 'CHNCXR_0018_0.png', 'CHNCXR_0455_1.png', 'CHNCXR_0410_1.png', 'CHNCXR_0105_0.png', 'CHNCXR_0378_1.png', 'CHNCXR_0140_0.png', 'CHNCXR_0385_1.png', 'CHNCXR_0204_0.png', 'CHNCXR_0241_0.png', 'CHNCXR_0079_0.png', 'CHNCXR_0529_1.png', 'CHNCXR_0591_1.png', 'CHNCXR_0084_0.png', 'CHNCXR_0628_1.png', 'CHNCXR_0220_0.png', 'CHNCXR_0265_0.png', 'CHNCXR_0199_0.png', 'CHNCXR_0121_0.png', 'CHNCXR_0164_0.png', 'CHNCXR_0298_0.png', 'CHNCXR_0471_1.png', 'CHNCXR_0434_1.png', 'CHNCXR_0159_0.png', 'CHNCXR_0361_1.png', 'CHNCXR_0409_1.png', 'CHNCXR_0258_0.png', 'CHNCXR_0300_0.png', 'CHNCXR_0615_1.png', 'CHNCXR_0650_1.png', 'CHNCXR_0044_0.png', 'CHNCXR_0001_0.png', 'CHNCXR_0514_1.png', 'CHNCXR_0551_1.png', 'CHNCXR_0405_1.png', 'CHNCXR_0440_1.png', 'CHNCXR_0155_0.png', 'CHNCXR_0328_1.png', 'CHNCXR_0110_0.png', 'CHNCXR_0390_1.png', 'CHNCXR_0254_0.png', 'CHNCXR_0211_0.png', 'CHNCXR_0619_1.png', 'CHNCXR_0518_1.png', 'CHNCXR_0048_0.png', 'CHNCXR_0560_1.png', 'CHNCXR_0525_1.png', 'CHNCXR_0030_0.png', 'CHNCXR_0075_0.png', 'CHNCXR_0661_1.png', 'CHNCXR_0088_0.png', 'CHNCXR_0624_1.png', 'CHNCXR_0195_0.png', 'CHNCXR_0269_0.png', 'CHNCXR_0480_1.png', 'CHNCXR_0294_0.png', 'CHNCXR_0438_1.png', 'CHNCXR_0168_0.png', 'CHNCXR_0350_1.png', 'CHNCXR_0315_0.png', 'CHNCXR_0645_1.png', 'CHNCXR_0600_1.png', 'CHNCXR_0014_0.png', 'CHNCXR_0051_0.png', 'CHNCXR_0544_1.png', 'CHNCXR_0501_1.png', 'CHNCXR_0109_0.png', 'CHNCXR_0331_1.png', 'CHNCXR_0374_1.png', 'CHNCXR_0459_1.png', 'CHNCXR_0208_0.png', 'CHNCXR_0389_1.png', 'CHNCXR_0499_1.png', 'CHNCXR_0270_0.png', 'CHNCXR_0235_0.png', 'CHNCXR_0349_1.png', 'CHNCXR_0171_0.png', 'CHNCXR_0134_0.png', 'CHNCXR_0421_1.png', 'CHNCXR_0464_1.png', 'CHNCXR_0029_0.png', 'CHNCXR_0579_1.png', 'CHNCXR_0584_1.png', 'CHNCXR_0091_0.png', 'CHNCXR_0423_1.png', 'CHNCXR_0466_1.png', 'CHNCXR_0173_0.png', 'CHNCXR_0136_0.png', 'CHNCXR_0272_0.png', 'CHNCXR_0237_0.png', 'CHNCXR_0093_0.png', 'CHNCXR_0586_1.png', 'CHNCXR_0546_1.png', 'CHNCXR_0503_1.png', 'CHNCXR_0016_0.png', 'CHNCXR_0053_0.png', 'CHNCXR_0647_1.png', 'CHNCXR_0602_1.png', 'CHNCXR_0317_0.png', 'CHNCXR_0333_1.png', 'CHNCXR_0376_1.png', 'CHNCXR_0626_1.png', 'CHNCXR_0032_0.png', 'CHNCXR_0077_0.png', 'CHNCXR_0562_1.png', 'CHNCXR_0527_1.png', 'CHNCXR_0352_1.png', 'CHNCXR_0296_0.png', 'CHNCXR_0482_1.png', 'CHNCXR_0197_0.png', 'CHNCXR_0256_0.png', 'CHNCXR_0213_0.png', 'CHNCXR_0392_1.png', 'CHNCXR_0157_0.png', 'CHNCXR_0112_0.png', 'CHNCXR_0407_1.png', 'CHNCXR_0442_1.png', 'CHNCXR_0486_1.png', 'CHNCXR_0193_0.png', 'CHNCXR_0356_1.png', 'CHNCXR_0292_0.png', 'CHNCXR_0036_0.png', 'CHNCXR_0073_0.png', 'CHNCXR_0566_1.png', 'CHNCXR_0523_1.png', 'CHNCXR_0622_1.png', 'CHNCXR_0153_0.png', 'CHNCXR_0116_0.png', 'CHNCXR_0403_1.png', 'CHNCXR_0446_1.png', 'CHNCXR_0252_0.png', 'CHNCXR_0217_0.png', 'CHNCXR_0396_1.png', 'CHNCXR_0097_0.png', 'CHNCXR_0582_1.png', 'CHNCXR_0276_0.png', 'CHNCXR_0233_0.png', 'CHNCXR_0427_1.png', 'CHNCXR_0462_1.png', 'CHNCXR_0177_0.png', 'CHNCXR_0132_0.png', 'CHNCXR_0337_1.png', 'CHNCXR_0372_1.png', 'CHNCXR_0643_1.png', 'CHNCXR_0606_1.png', 'CHNCXR_0313_0.png', 'CHNCXR_0542_1.png', 'CHNCXR_0507_1.png', 'CHNCXR_0012_0.png', 'CHNCXR_0057_0.png', 'CHNCXR_0249_0.png', 'CHNCXR_0335_1.png', 'CHNCXR_0148_0.png', 'CHNCXR_0370_1.png', 'CHNCXR_0418_1.png', 'CHNCXR_0010_0.png', 'CHNCXR_0055_0.png', 'CHNCXR_0540_1.png', 'CHNCXR_0505_1.png', 'CHNCXR_0311_0.png', 'CHNCXR_0641_1.png', 'CHNCXR_0604_1.png', 'CHNCXR_0580_1.png', 'CHNCXR_0639_1.png', 'CHNCXR_0095_0.png', 'CHNCXR_0068_0.png', 'CHNCXR_0538_1.png', 'CHNCXR_0175_0.png', 'CHNCXR_0130_0.png', 'CHNCXR_0425_1.png', 'CHNCXR_0460_1.png', 'CHNCXR_0289_0.png', 'CHNCXR_0274_0.png', 'CHNCXR_0231_0.png', 'CHNCXR_0188_0.png', 'CHNCXR_0559_1.png', 'CHNCXR_0009_0.png', 'CHNCXR_0658_1.png', 'CHNCXR_0308_0.png', 'CHNCXR_0394_1.png', 'CHNCXR_0250_0.png', 'CHNCXR_0215_0.png', 'CHNCXR_0401_1.png', 'CHNCXR_0444_1.png', 'CHNCXR_0369_1.png', 'CHNCXR_0151_0.png', 'CHNCXR_0114_0.png', 'CHNCXR_0290_0.png', 'CHNCXR_0479_1.png', 'CHNCXR_0129_0.png', 'CHNCXR_0354_1.png', 'CHNCXR_0191_0.png', 'CHNCXR_0228_0.png', 'CHNCXR_0484_1.png', 'CHNCXR_0620_1.png', 'CHNCXR_0599_1.png', 'CHNCXR_0564_1.png', 'CHNCXR_0521_1.png', 'CHNCXR_0034_0.png', 'CHNCXR_0071_0.png', 'CHNCXR_0377_1.png', 'CHNCXR_0332_1.png', 'CHNCXR_0502_1.png', 'CHNCXR_0547_1.png', 'CHNCXR_0052_0.png', 'CHNCXR_0017_0.png', 'CHNCXR_0603_1.png', 'CHNCXR_0646_1.png', 'CHNCXR_0316_0.png', 'CHNCXR_0092_0.png', 'CHNCXR_0587_1.png', 'CHNCXR_0467_1.png', 'CHNCXR_0422_1.png', 'CHNCXR_0137_0.png', 'CHNCXR_0172_0.png', 'CHNCXR_0236_0.png', 'CHNCXR_0273_0.png', 'CHNCXR_0212_0.png', 'CHNCXR_0257_0.png', 'CHNCXR_0393_1.png', 'CHNCXR_0113_0.png', 'CHNCXR_0156_0.png', 'CHNCXR_0443_1.png', 'CHNCXR_0406_1.png', 'CHNCXR_0353_1.png', 'CHNCXR_0297_0.png', 'CHNCXR_0483_1.png', 'CHNCXR_0196_0.png', 'CHNCXR_0627_1.png', 'CHNCXR_0662_1.png', 'CHNCXR_0076_0.png', 'CHNCXR_0033_0.png', 'CHNCXR_0526_1.png', 'CHNCXR_0563_1.png', 'CHNCXR_0194_0.png', 'CHNCXR_0481_1.png', 'CHNCXR_0268_0.png', 'CHNCXR_0439_1.png', 'CHNCXR_0295_0.png', 'CHNCXR_0169_0.png', 'CHNCXR_0351_1.png', 'CHNCXR_0524_1.png', 'CHNCXR_0561_1.png', 'CHNCXR_0074_0.png', 'CHNCXR_0031_0.png', 'CHNCXR_0625_1.png', 'CHNCXR_0089_0.png', 'CHNCXR_0660_1.png', 'CHNCXR_0618_1.png', 'CHNCXR_0519_1.png', 'CHNCXR_0049_0.png', 'CHNCXR_0441_1.png', 'CHNCXR_0404_1.png', 'CHNCXR_0329_1.png', 'CHNCXR_0111_0.png', 'CHNCXR_0154_0.png', 'CHNCXR_0391_1.png', 'CHNCXR_0210_0.png', 'CHNCXR_0255_0.png', 'CHNCXR_0028_0.png', 'CHNCXR_0578_1.png', 'CHNCXR_0585_1.png', 'CHNCXR_0090_0.png', 'CHNCXR_0234_0.png', 'CHNCXR_0271_0.png', 'CHNCXR_0498_1.png', 'CHNCXR_0135_0.png', 'CHNCXR_0348_1.png', 'CHNCXR_0170_0.png', 'CHNCXR_0465_1.png', 'CHNCXR_0420_1.png', 'CHNCXR_0375_1.png', 'CHNCXR_0108_0.png', 'CHNCXR_0330_1.png', 'CHNCXR_0458_1.png', 'CHNCXR_0209_0.png', 'CHNCXR_0388_1.png', 'CHNCXR_0314_0.png', 'CHNCXR_0601_1.png', 'CHNCXR_0644_1.png', 'CHNCXR_0050_0.png', 'CHNCXR_0015_0.png', 'CHNCXR_0500_1.png', 'CHNCXR_0545_1.png', 'CHNCXR_0131_0.png', 'CHNCXR_0174_0.png', 'CHNCXR_0288_0.png', 'CHNCXR_0461_1.png', 'CHNCXR_0424_1.png', 'CHNCXR_0230_0.png', 'CHNCXR_0275_0.png', 'CHNCXR_0189_0.png', 'CHNCXR_0581_1.png', 'CHNCXR_0094_0.png', 'CHNCXR_0638_1.png', 'CHNCXR_0069_0.png', 'CHNCXR_0539_1.png', 'CHNCXR_0054_0.png', 'CHNCXR_0011_0.png', 'CHNCXR_0504_1.png', 'CHNCXR_0541_1.png', 'CHNCXR_0310_0.png', 'CHNCXR_0605_1.png', 'CHNCXR_0640_1.png', 'CHNCXR_0248_0.png', 'CHNCXR_0149_0.png', 'CHNCXR_0371_1.png', 'CHNCXR_0334_1.png', 'CHNCXR_0419_1.png', 'CHNCXR_0621_1.png', 'CHNCXR_0598_1.png', 'CHNCXR_0520_1.png', 'CHNCXR_0565_1.png', 'CHNCXR_0070_0.png', 'CHNCXR_0035_0.png', 'CHNCXR_0478_1.png', 'CHNCXR_0291_0.png', 'CHNCXR_0355_1.png', 'CHNCXR_0128_0.png', 'CHNCXR_0190_0.png', 'CHNCXR_0485_1.png', 'CHNCXR_0229_0.png', 'CHNCXR_0395_1.png', 'CHNCXR_0214_0.png', 'CHNCXR_0251_0.png', 'CHNCXR_0445_1.png', 'CHNCXR_0400_1.png', 'CHNCXR_0115_0.png', 'CHNCXR_0368_1.png', 'CHNCXR_0150_0.png', 'CHNCXR_0558_1.png', 'CHNCXR_0008_0.png', 'CHNCXR_0659_1.png', 'CHNCXR_0309_0.png', 'CHNCXR_0117_0.png', 'CHNCXR_0152_0.png', 'CHNCXR_0447_1.png', 'CHNCXR_0402_1.png', 'CHNCXR_0216_0.png', 'CHNCXR_0253_0.png', 'CHNCXR_0397_1.png', 'CHNCXR_0072_0.png', 'CHNCXR_0037_0.png', 'CHNCXR_0522_1.png', 'CHNCXR_0567_1.png', 'CHNCXR_0623_1.png', 'CHNCXR_0487_1.png', 'CHNCXR_0192_0.png', 'CHNCXR_0357_1.png', 'CHNCXR_0293_0.png', 'CHNCXR_0607_1.png', 'CHNCXR_0642_1.png', 'CHNCXR_0312_0.png', 'CHNCXR_0506_1.png', 'CHNCXR_0543_1.png', 'CHNCXR_0056_0.png', 'CHNCXR_0013_0.png', 'CHNCXR_0373_1.png', 'CHNCXR_0336_1.png', 'CHNCXR_0232_0.png', 'CHNCXR_0277_0.png', 'CHNCXR_0463_1.png', 'CHNCXR_0426_1.png', 'CHNCXR_0133_0.png', 'CHNCXR_0176_0.png', 'CHNCXR_0096_0.png', 'CHNCXR_0583_1.png']\n"
     ]
    }
   ],
   "source": [
    "# verify existance of directory\n",
    "if os.path.exists(data_directory):\n",
    "    print(\"Directory exists\")\n",
    "    print(os.listdir(data_directory))\n",
    "else:\n",
    "    print(\"Directory does not exist:\", data_directory)"
   ]
  },
  {
   "cell_type": "code",
   "execution_count": 24,
   "metadata": {},
   "outputs": [
    {
     "name": "stdout",
     "output_type": "stream",
     "text": [
      "Valid images: 662\n"
     ]
    }
   ],
   "source": [
    "all_files = os.listdir(data_directory)\n",
    "all_files = [f for f in all_files if f.endswith('.png') and f[-5] in ['0', '1']] # filtering for images with 0 and 1\n",
    "print(\"Valid images:\" ,len(all_files))"
   ]
  },
  {
   "cell_type": "code",
   "execution_count": 25,
   "metadata": {},
   "outputs": [
    {
     "name": "stdout",
     "output_type": "stream",
     "text": [
      "Device Category:  mps\n"
     ]
    }
   ],
   "source": [
    "device = None\n",
    "if torch.backends.mps.is_available():\n",
    "    device = torch.device('mps')  \n",
    "elif torch.xpu.is_available():\n",
    "    device = torch.device(\"xpu\")\n",
    "    print(\"Using Intel GPU\")\n",
    "elif torch.cuda.is_available():\n",
    "    device = torch.device(\"cuda:0\")\n",
    "    print(\"Using NVIDIA GPU\")\n",
    "else:\n",
    "    device = torch.device(\"cpu\")\n",
    "    print(\"Using CPU\")\n",
    "print(\"Device Category: \",device)"
   ]
  },
  {
   "cell_type": "code",
   "execution_count": 26,
   "metadata": {},
   "outputs": [],
   "source": [
    "data_transforms = transforms.Compose([transforms.ToTensor()])\n",
    "\n",
    "\n",
    "# function to pre process image for model\n",
    "def CNNloader(data_root, filename):\n",
    "\n",
    "    filename_actual = data_root + '/' + filename\n",
    "    data_old = io.imread(filename_actual)\n",
    "\n",
    "    # Resize image to 224x224\n",
    "    data_old = resize(data_old, (224, 224))\n",
    "    data_old = np.array(data_old, dtype=np.float32)\n",
    "    \n",
    "    # Convert 2 channel data to 3 channel\n",
    "    if len(data_old.shape) <= 2:\n",
    "        data_new = np.zeros(data_old.shape + (3,))\n",
    "        data_new[:,:,0] = data_new[:,:,1] = data_new[:,:,2] = np.array(data_old)\n",
    "        data_old = np.array(data_new, dtype=np.float32)\n",
    "    \n",
    "    # Applying transform\n",
    "    data_old = data_transforms(np.array(data_old))\n",
    "    return data_old\n"
   ]
  },
  {
   "cell_type": "code",
   "execution_count": 27,
   "metadata": {},
   "outputs": [],
   "source": [
    "# converts our image to a format the network can understand\n",
    "class CNNDataLayer(data.Dataset):\n",
    "    def __init__(self, data_root, filenames, loader):\n",
    "        self.data_root = data_root\n",
    "        self.filenames = filenames\n",
    "        self.loader = loader\n",
    "\n",
    "    # returning data and extracted label from filename\n",
    "    def __getitem__(self, index):\n",
    "        filename = self.filenames[index]\n",
    "        target = [int(filename[-5])]\n",
    "        target = torch.from_numpy(np.array(target))\n",
    "        data = self.loader(self.data_root, filename)\n",
    "        return data, target\n",
    "\n",
    "    # dataset size\n",
    "    def __len__(self):\n",
    "        return len(self.filenames)"
   ]
  },
  {
   "cell_type": "code",
   "execution_count": 30,
   "metadata": {},
   "outputs": [
    {
     "name": "stdout",
     "output_type": "stream",
     "text": [
      "(662,)\n",
      "(463,) (199,)\n"
     ]
    }
   ],
   "source": [
    "all_files = np.array(all_files)\n",
    "print(all_files.shape)\n",
    "np.random.shuffle(all_files)\n",
    "\n",
    "# Split our data: 70% for training, 30% for testing\n",
    "# Determine the split index for 70% of the data\n",
    "split_index = int(0.70 * len(all_files))\n",
    "train_files = all_files[:split_index]\n",
    "test_files = all_files[split_index:]\n",
    "print(train_files.shape, test_files.shape)\n"
   ]
  },
  {
   "cell_type": "code",
   "execution_count": 31,
   "metadata": {},
   "outputs": [],
   "source": [
    "data_sets_train = CNNDataLayer(data_root=data_directory, filenames=train_files, loader=CNNloader)\n",
    "data_sets_test = CNNDataLayer(data_root=data_directory, filenames=test_files, loader=CNNloader)\n",
    "\n",
    "# Create data loaders\n",
    "data_loaders_train = data.DataLoader(data_sets_train, batch_size=8, shuffle=True, num_workers=0)\n",
    "data_loaders_test = data.DataLoader(data_sets_test, batch_size=8, shuffle=True, num_workers=0)\n",
    "\n",
    "model_to_train = models.vgg16(weights='IMAGENET1K_V1')\n",
    "\n",
    "# retaining pre trained logic\n",
    "for param in model_to_train.features.parameters():\n",
    "    param.require_grad = False\n",
    "\n",
    "# adding layer for classification\n",
    "num_features = model_to_train.classifier[6].in_features\n",
    "features = list(model_to_train.classifier.children())[:-1]\n",
    "features.extend([nn.Linear(num_features, 1), nn.Sigmoid()])\n",
    "model_to_train.classifier = nn.Sequential(*features)\n",
    "\n",
    "model_to_train = model_to_train.to(device)\n",
    "\n",
    "# Define loss function and optimizer\n",
    "criterion = nn.BCELoss()\n",
    "optimizer_ft = optim.SGD(model_to_train.parameters(), lr=0.001, momentum=0.9)\n"
   ]
  },
  {
   "cell_type": "code",
   "execution_count": 33,
   "metadata": {},
   "outputs": [
    {
     "name": "stdout",
     "output_type": "stream",
     "text": [
      "Epoch is 0\n",
      "Epoch 0 - Test Metrics:\n",
      "Accuracy: 0.8392\n",
      "Precision: 0.8916\n",
      "Recall: 0.7629\n",
      "F1 Score: 0.8222\n"
     ]
    }
   ],
   "source": [
    "number_of_epochs = 1  \n",
    "# Get the current date and time\n",
    "now = datetime.now()\n",
    "Saved_path = \"VGG16-output\" + \"/\" + now.strftime(\"%Y-%m-%d_%H-%M-%S\")\n",
    "\n",
    "\n",
    "for epoch in range(number_of_epochs):\n",
    "    print('Epoch is ' + str(epoch))\n",
    "    train_loss = 0\n",
    "    test_loss = 0\n",
    "    total_misclassified_train = total_count_train = 0\n",
    "    total_misclassified_test = total_count_test = 0\n",
    "    \n",
    "    # Training stage\n",
    "    # ---------------------------------------------------------------------------------------\n",
    "\n",
    "\n",
    "    model_to_train.train()\n",
    "    for batch_idx, (data_now, target_now) in enumerate(data_loaders_train):\n",
    "\n",
    "        data_now, target_now = data_now.to(device), target_now.to(device)\n",
    "        \n",
    "\n",
    "        target_output_model = model_to_train(data_now)\n",
    "        target_now = target_now.type(torch.FloatTensor).to(device)\n",
    "        \n",
    "        # Calculating losses\n",
    "        target_loss = criterion(target_output_model, target_now)\n",
    "        \n",
    "        # stats\n",
    "        misclassified_temp = target_output_model[target_now == 1]\n",
    "        total_misclassified_train += (misclassified_temp < 0.5).sum().item()\n",
    "        misclassified_temp = target_output_model[target_now == 0]\n",
    "        total_misclassified_train += (misclassified_temp >= 0.5).sum().item()\n",
    "        total_count_train += data_now.shape[0]\n",
    "        \n",
    "        # Backpropagation\n",
    "        optimizer_ft.zero_grad()\n",
    "        target_loss.backward()\n",
    "        optimizer_ft.step()\n",
    "    \n",
    "    \n",
    "    # Testing stage\n",
    "    # ---------------------------------------------------------------------------------------\n",
    "\n",
    "    model_to_train.eval()\n",
    "    all_predictions = []\n",
    "    all_targets = []\n",
    "\n",
    "    # Disabling training logic\n",
    "    with torch.no_grad():\n",
    "        for batch_idx, (data_now, target_now) in enumerate(data_loaders_test):\n",
    "\n",
    "            data_now, target_now = data_now.to(device), target_now.to(device)\n",
    "            target_output_model = model_to_train(data_now)\n",
    "            \n",
    "            predicted_labels = (target_output_model >= 0.5).float()\n",
    "            all_predictions.extend(predicted_labels.cpu().numpy())\n",
    "            all_targets.extend(target_now.cpu().numpy())\n",
    "            \n",
    "            # Calculate how many predictions were wrong\n",
    "            misclassified_temp = target_output_model[target_now == 1]\n",
    "            total_misclassified_test += (misclassified_temp < 0.5).sum().item()\n",
    "            misclassified_temp = target_output_model[target_now == 0]\n",
    "            total_misclassified_test += (misclassified_temp >= 0.5).sum().item()\n",
    "            total_count_test += data_now.shape[0]\n",
    "    \n",
    "    # Converting to numpy arrays \n",
    "    all_predictions = np.array(all_predictions).flatten()\n",
    "    all_targets = np.array(all_targets).flatten()\n",
    "    \n",
    "    # Calculate evaluation metrics\n",
    "    accuracy = np.mean(all_predictions == all_targets)\n",
    "    precision = precision_score(all_targets, all_predictions)\n",
    "    recall = recall_score(all_targets, all_predictions)\n",
    "    f1 = f1_score(all_targets, all_predictions)\n",
    "    \n",
    "    # Print evaluation metrics\n",
    "    print(f'Epoch {epoch} - Test Metrics:')\n",
    "    print(f'Accuracy: {accuracy:.4f}')\n",
    "    print(f'Precision: {precision:.4f}')\n",
    "    print(f'Recall: {recall:.4f}')\n",
    "    print(f'F1 Score: {f1:.4f}')\n",
    "    \n",
    "    # Saving model weights \n",
    "    \n",
    "    os.makedirs(Saved_path, exist_ok=True)\n",
    "    epoch_model_name = f'epoch-{epoch}-trainerror-{total_misclassified_train/total_count_train:.4f}-testerror-{total_misclassified_test/total_count_test:.4f}.pth'\n",
    "    torch.save(model_to_train.state_dict(), os.path.join(Saved_path, epoch_model_name))"
   ]
  },
  {
   "cell_type": "code",
   "execution_count": 34,
   "metadata": {},
   "outputs": [],
   "source": [
    "#  running over testing files to print number of True positives, True negatives, False positives, False negatives\n",
    "# Function to evaluate the model and generate predictions\n",
    "def evaluate_model(model, dataloader):\n",
    "    model.eval()  # Set the model to evaluation mode\n",
    "    all_preds = []\n",
    "    all_labels = []\n",
    "\n",
    "    with torch.no_grad():  # Disable gradient calculation\n",
    "        for inputs, labels in dataloader:\n",
    "            inputs = inputs.to(device)\n",
    "            labels = labels.to(device)\n",
    "\n",
    "            outputs = model(inputs)\n",
    "            preds = (outputs > 0.5).float()  # Apply threshold for binary classification\n",
    "\n",
    "            all_preds.extend(preds.cpu().numpy())\n",
    "            all_labels.extend(labels.cpu().numpy())\n",
    "\n",
    "    return np.array(all_labels), np.array(all_preds)\n"
   ]
  },
  {
   "cell_type": "code",
   "execution_count": 35,
   "metadata": {},
   "outputs": [],
   "source": [
    "test_loader = data_loaders_test  \n",
    "\n",
    "# Get true labels and predictions\n",
    "true_labels, predictions = evaluate_model(model_to_train, test_loader)\n",
    "\n",
    "# Compute confusion matrix\n",
    "cm = confusion_matrix(true_labels, predictions)\n"
   ]
  },
  {
   "cell_type": "code",
   "execution_count": 36,
   "metadata": {},
   "outputs": [
    {
     "data": {
      "image/png": "[encoded data removed]",
      "text/plain": [
       "<Figure size 800x600 with 2 Axes>"
      ]
     },
     "metadata": {},
     "output_type": "display_data"
    }
   ],
   "source": [
    "def plot_confusion_matrix(cm, class_names):\n",
    "    plt.figure(figsize=(8, 6))\n",
    "    sns.heatmap(cm, annot=True, fmt='d', cmap='Blues', \n",
    "                xticklabels=class_names, yticklabels=class_names)\n",
    "    plt.ylabel('True label')\n",
    "    plt.xlabel('Predicted label')\n",
    "    plt.title('Confusion Matrix')\n",
    "    plt.show()\n",
    "\n",
    "class_names = ['NoTB', 'TB']\n",
    "plot_confusion_matrix(cm, class_names)"
   ]
  }
 ],
 "metadata": {
  "kernelspec": {
   "display_name": "env",
   "language": "python",
   "name": "python3"
  },
  "language_info": {
   "codemirror_mode": {
    "name": "ipython",
    "version": 3
   },
   "file_extension": ".py",
   "mimetype": "text/x-python",
   "name": "python",
   "nbconvert_exporter": "python",
   "pygments_lexer": "ipython3",
   "version": "3.12.6"
  }
 },
 "nbformat": 4,
 "nbformat_minor": 2
}
